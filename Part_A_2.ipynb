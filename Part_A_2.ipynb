{
 "cells": [
  {
   "cell_type": "markdown",
   "metadata": {},
   "source": [
    "# Question A2 (10 marks)"
   ]
  },
  {
   "cell_type": "markdown",
   "metadata": {},
   "source": [
    "### In this question, we will determine the optimal batch size for mini-batch gradient descent. Find the optimal batch size for mini-batch gradient descent by training the neural network and evaluating the performances for different batch sizes. Note: Use 5-fold cross-validation on training partition to perform hyperparameter selection. You will have to reconsider the scaling of the dataset during the 5-fold cross validation.\n"
   ]
  },
  {
   "cell_type": "markdown",
   "metadata": {},
   "source": [
    "#### Plot mean cross-validation accuracies on the final epoch for different batch sizes as a scatter plot. Limit search space to batch sizes {64, 128, 256, 512, 1024}. Next, create a table of time taken to train the network on the last epoch against different batch sizes. Finally, select the optimal batch size and state a reason for your selection.\n",
    "\n",
    "This might take a while to run, so plan your time carefully."
   ]
  },
  {
   "cell_type": "code",
   "execution_count": 1,
   "metadata": {
    "ExecuteTime": {
     "end_time": "2024-03-03T13:46:49.473518Z",
     "start_time": "2024-03-03T13:46:49.467487Z"
    }
   },
   "outputs": [],
   "source": [
    "import tqdm\n",
    "import time\n",
    "import random\n",
    "import numpy as np\n",
    "import pandas as pd\n",
    "import matplotlib.pyplot as plt\n",
    "\n",
    "import torch\n",
    "from torch import nn\n",
    "from torch.utils.data import Dataset\n",
    "from torch.utils.data import DataLoader\n",
    "\n",
    "from scipy.io import wavfile as wav\n",
    "\n",
    "from sklearn import preprocessing\n",
    "from sklearn.model_selection import KFold\n",
    "from sklearn.model_selection import train_test_split\n",
    "from sklearn.metrics import f1_score, precision_score, recall_score, confusion_matrix\n",
    "\n",
    "from common_utils import set_seed\n",
    "\n",
    "# setting seed\n",
    "set_seed()"
   ]
  },
  {
   "cell_type": "markdown",
   "metadata": {},
   "source": [
    "1.To reduce repeated code, place your\n",
    "\n",
    "- network (MLP defined in QA1)\n",
    "\n",
    "- torch datasets (CustomDataset defined in QA1)\n",
    "- loss function (loss_fn defined in QA1)\n",
    "in a separate file called common_utils.py\n",
    "\n",
    "Import them into this file. You will not be repenalised for any error in QA1 here as the code in QA1 will not be remarked.\n",
    "\n",
    "The following code cell will not be marked."
   ]
  },
  {
   "cell_type": "code",
   "execution_count": 2,
   "metadata": {
    "ExecuteTime": {
     "end_time": "2024-03-03T13:46:49.516595Z",
     "start_time": "2024-03-03T13:46:49.513917Z"
    }
   },
   "outputs": [],
   "source": [
    "# Import the functions from common_utils.py\n",
    "from common_utils import loss_fn, CustomDataset, intialise_loaders, MLP, preprocess_dataset, EarlyStopper"
   ]
  },
  {
   "cell_type": "code",
   "execution_count": null,
   "metadata": {
    "ExecuteTime": {
     "end_time": "2024-03-03T13:46:49.546129Z",
     "start_time": "2024-03-03T13:46:49.543940Z"
    }
   },
   "outputs": [],
   "source": []
  },
  {
   "cell_type": "markdown",
   "metadata": {},
   "source": [
    "2.Define different folds for different batch sizes to get a dictionary of training and validation datasets. Preprocess your datasets accordingly."
   ]
  },
  {
   "cell_type": "code",
   "execution_count": 3,
   "metadata": {
    "ExecuteTime": {
     "end_time": "2024-03-03T13:46:49.859059Z",
     "start_time": "2024-03-03T13:46:49.558257Z"
    }
   },
   "outputs": [],
   "source": [
    "# Define the function to generate the training and validation datasets for the different batch sizes\n",
    "def generate_cv_folds_for_batch_sizes(parameters, X_train, y_train):\n",
    "    \"\"\"\n",
    "    returns:\n",
    "    X_train_scaled_dict(dict) where X_train_scaled_dict[batch_size] is a list of the preprocessed training matrix for the different folds.\n",
    "    X_val_scaled_dict(dict) where X_val_scaled_dict[batch_size] is a list of the processed validation matrix for the different folds.\n",
    "    y_train_dict(dict) where y_train_dict[batch_size] is a list of labels for the different folds\n",
    "    y_val_dict(dict) where y_val_dict[batch_size] is a list of labels for the different folds\n",
    "    \"\"\"\n",
    "    # Define the number of folds\n",
    "    no_folds = 5\n",
    "    \n",
    "    # Define the dictionaries to store the training and validation datasets\n",
    "    X_train_scaled_dict = {}\n",
    "    X_val_scaled_dict = {}\n",
    "    y_train_dict = {}\n",
    "    y_val_dict = {}\n",
    "    \n",
    "    # Define the k-fold cross-validation\n",
    "    kf = KFold(n_splits=no_folds, shuffle=True, random_state=0)\n",
    "    \n",
    "    # Loop through the different batch sizes\n",
    "    for batch_size in parameters:\n",
    "        # Set the initial list value to the dictionaries\n",
    "        X_train_scaled_dict[batch_size] = []\n",
    "        X_val_scaled_dict[batch_size] = []\n",
    "        y_train_dict[batch_size] = []\n",
    "        y_val_dict[batch_size] = []\n",
    "        \n",
    "        # Loop through the different folds\n",
    "        for train_index, val_index in kf.split(X_train):\n",
    "            # For every batch size, iterate through the different folds that split the dataset into training and validation datasets\n",
    "            X_train_fold, X_val_fold = X_train[train_index], X_train[val_index]  # Split the training and validation datasets with the features\n",
    "            y_train_fold, y_val_fold = y_train[train_index], y_train[val_index]  # Split the training and validation datasets with the labels\n",
    "            \n",
    "            # Scale the input features\n",
    "            scaler = preprocessing.StandardScaler()\n",
    "            X_train_fold = scaler.fit_transform(X_train_fold)\n",
    "            X_val_fold = scaler.transform(X_val_fold)\n",
    "            \n",
    "            # Append the training and validation datasets to the dictionaries\n",
    "            X_train_scaled_dict[batch_size].append(X_train_fold)\n",
    "            X_val_scaled_dict[batch_size].append(X_val_fold)\n",
    "            y_train_dict[batch_size].append(y_train_fold)\n",
    "            y_val_dict[batch_size].append(y_val_fold)\n",
    "    \n",
    "    return X_train_scaled_dict, X_val_scaled_dict, y_train_dict, y_val_dict\n",
    "\n",
    "# Custom function to split the dataset for K-Fold Cross Validation, first split then fit the label encoder to the training set and transform the test set\n",
    "def split_dataset(df, columns_to_drop, test_size, random_state):\n",
    "    # Split the dataset into training and testing datasets\n",
    "    df_train, df_test = train_test_split(df, test_size=test_size, random_state=random_state)\n",
    "    \n",
    "    # Define the label encoder\n",
    "    label_encoder = preprocessing.LabelEncoder()\n",
    "\n",
    "    # Fit and transform the training set, transform the test set\n",
    "    df_train['label'] = label_encoder.fit_transform(df_train['label'])\n",
    "    df_test['label'] = label_encoder.transform(df_test['label'])\n",
    "\n",
    "    # Drop the columns from the training and testing datasets\n",
    "    df_train2 = df_train.drop(columns_to_drop,axis=1)\n",
    "    y_train2 = df_train['label'].to_numpy()\n",
    "\n",
    "    # Drop the columns from the training and testing datasets\n",
    "    df_test2 = df_test.drop(columns_to_drop,axis=1)\n",
    "    y_test2 = df_test['label'].to_numpy() \n",
    "\n",
    "    return df_train2, y_train2, df_test2, y_test2\n",
    "\n",
    "# Custom function to preprocess the dataset for K-Fold Cross Validation\n",
    "def preprocess(df):\n",
    "    drop_columns = ['filename', 'label']  # Columns to be dropped from the dataframe\n",
    "    X_train, y_train, X_test, y_test = split_dataset(df, drop_columns, test_size=0.25, random_state=0)  # Split the dataset with test_size=0.25 to achieve 75:25 train-test ratio\n",
    "    X_train_scaled, X_test_scaled = preprocess_dataset(X_train, X_test)  # Scale the input features\n",
    "    return X_train_scaled, y_train, X_test_scaled, y_test\n",
    "\n",
    "\n",
    "df = pd.read_csv('simplified.csv')\n",
    "df['label'] = df['filename'].str.split('_').str[-2]\n",
    "\n",
    "df['label'].value_counts()\n",
    "\n",
    "X_train_scaled, y_train, X_test_scaled, y_test = preprocess(df)\n",
    "\n",
    "# Define the batch sizes\n",
    "batch_sizes = [64, 128, 256, 512, 1024]\n",
    "# Generate the training and validation datasets\n",
    "X_train_scaled_dict, X_val_scaled_dict, y_train_dict, y_val_dict = generate_cv_folds_for_batch_sizes(batch_sizes, X_train_scaled, y_train)"
   ]
  },
  {
   "cell_type": "code",
   "execution_count": 4,
   "metadata": {
    "ExecuteTime": {
     "end_time": "2024-03-03T13:46:49.864683Z",
     "start_time": "2024-03-03T13:46:49.861309Z"
    }
   },
   "outputs": [
    {
     "name": "stdout",
     "output_type": "stream",
     "text": [
      "Batch Size: 64\n",
      "X_train_scaled_dict[batch_size][0].shape: (7233, 77)\n",
      "X_val_scaled_dict[batch_size][0].shape: (1809, 77)\n",
      "y_train_dict[batch_size][0].shape: (7233,)\n",
      "y_val_dict[batch_size][0].shape: (1809,)\n",
      "\n",
      "Batch Size: 128\n",
      "X_train_scaled_dict[batch_size][0].shape: (7233, 77)\n",
      "X_val_scaled_dict[batch_size][0].shape: (1809, 77)\n",
      "y_train_dict[batch_size][0].shape: (7233,)\n",
      "y_val_dict[batch_size][0].shape: (1809,)\n",
      "\n",
      "Batch Size: 256\n",
      "X_train_scaled_dict[batch_size][0].shape: (7233, 77)\n",
      "X_val_scaled_dict[batch_size][0].shape: (1809, 77)\n",
      "y_train_dict[batch_size][0].shape: (7233,)\n",
      "y_val_dict[batch_size][0].shape: (1809,)\n",
      "\n",
      "Batch Size: 512\n",
      "X_train_scaled_dict[batch_size][0].shape: (7233, 77)\n",
      "X_val_scaled_dict[batch_size][0].shape: (1809, 77)\n",
      "y_train_dict[batch_size][0].shape: (7233,)\n",
      "y_val_dict[batch_size][0].shape: (1809,)\n",
      "\n",
      "Batch Size: 1024\n",
      "X_train_scaled_dict[batch_size][0].shape: (7233, 77)\n",
      "X_val_scaled_dict[batch_size][0].shape: (1809, 77)\n",
      "y_train_dict[batch_size][0].shape: (7233,)\n",
      "y_val_dict[batch_size][0].shape: (1809,)\n",
      "\n"
     ]
    }
   ],
   "source": [
    "# Analyse the shape of the training and validation datasets\n",
    "for batch_size in batch_sizes:\n",
    "    print(f'Batch Size: {batch_size}')\n",
    "    print(f'X_train_scaled_dict[batch_size][0].shape: {X_train_scaled_dict[batch_size][0].shape}')\n",
    "    print(f'X_val_scaled_dict[batch_size][0].shape: {X_val_scaled_dict[batch_size][0].shape}')\n",
    "    print(f'y_train_dict[batch_size][0].shape: {y_train_dict[batch_size][0].shape}')\n",
    "    print(f'y_val_dict[batch_size][0].shape: {y_val_dict[batch_size][0].shape}')\n",
    "    print()\n",
    "    "
   ]
  },
  {
   "cell_type": "code",
   "execution_count": null,
   "metadata": {
    "ExecuteTime": {
     "end_time": "2024-03-03T13:46:49.867353Z",
     "start_time": "2024-03-03T13:46:49.865877Z"
    }
   },
   "outputs": [],
   "source": []
  },
  {
   "cell_type": "markdown",
   "metadata": {},
   "source": [
    "3.Perform hyperparameter tuning for the different batch sizes with 5-fold cross validation."
   ]
  },
  {
   "cell_type": "code",
   "execution_count": 5,
   "metadata": {
    "ExecuteTime": {
     "end_time": "2024-03-03T13:48:46.252064Z",
     "start_time": "2024-03-03T13:46:49.870071Z"
    }
   },
   "outputs": [
    {
     "name": "stdout",
     "output_type": "stream",
     "text": [
      "Batch size 64, Fold 1, Epoch stopped at 27 with validation loss: 0.5241 and validation accuracy: 0.7573\n",
      "Batch size 64, Fold 2, Epoch stopped at 25 with validation loss: 0.5456 and validation accuracy: 0.7341\n",
      "Batch size 64, Fold 3, Epoch stopped at 26 with validation loss: 0.5380 and validation accuracy: 0.7428\n",
      "Batch size 64, Fold 4, Epoch stopped at 24 with validation loss: 0.5252 and validation accuracy: 0.7506\n",
      "Batch size 64, Fold 5, Epoch stopped at 25 with validation loss: 0.5389 and validation accuracy: 0.7373\n",
      "Batch size 128, Fold 1, Epoch stopped at 25 with validation loss: 0.5110 and validation accuracy: 0.7595\n",
      "Batch size 128, Fold 2, Epoch stopped at 22 with validation loss: 0.5319 and validation accuracy: 0.7341\n",
      "Batch size 128, Fold 3, Epoch stopped at 26 with validation loss: 0.5473 and validation accuracy: 0.7362\n",
      "Batch size 128, Fold 4, Epoch stopped at 21 with validation loss: 0.5516 and validation accuracy: 0.7268\n",
      "Batch size 128, Fold 5, Epoch stopped at 19 with validation loss: 0.5450 and validation accuracy: 0.7251\n",
      "Batch size 256, Fold 1, Epoch stopped at 25 with validation loss: 0.5374 and validation accuracy: 0.7347\n",
      "Batch size 256, Fold 2, Epoch stopped at 17 with validation loss: 0.5702 and validation accuracy: 0.7125\n",
      "Batch size 256, Fold 3, Epoch stopped at 21 with validation loss: 0.5425 and validation accuracy: 0.7334\n",
      "Batch size 256, Fold 4, Epoch stopped at 24 with validation loss: 0.5591 and validation accuracy: 0.7262\n",
      "Batch size 256, Fold 5, Epoch stopped at 12 with validation loss: 0.6151 and validation accuracy: 0.6726\n",
      "Batch size 512, Fold 1, Epoch stopped at 38 with validation loss: 0.5344 and validation accuracy: 0.7501\n",
      "Batch size 512, Fold 2, Epoch stopped at 24 with validation loss: 0.5847 and validation accuracy: 0.6960\n",
      "Batch size 512, Fold 3, Epoch stopped at 34 with validation loss: 0.5334 and validation accuracy: 0.7400\n",
      "Batch size 512, Fold 4, Epoch stopped at 38 with validation loss: 0.5458 and validation accuracy: 0.7340\n",
      "Batch size 512, Fold 5, Epoch stopped at 24 with validation loss: 0.5820 and validation accuracy: 0.6925\n",
      "Batch size 1024, Fold 1, Epoch stopped at 46 with validation loss: 0.5582 and validation accuracy: 0.7120\n",
      "Batch size 1024, Fold 2, Epoch stopped at 29 with validation loss: 0.6286 and validation accuracy: 0.6462\n",
      "Batch size 1024, Fold 3, Epoch stopped at 27 with validation loss: 0.6132 and validation accuracy: 0.6659\n",
      "Batch size 1024, Fold 4, Epoch stopped at 61 with validation loss: 0.5512 and validation accuracy: 0.7229\n",
      "Batch size 1024, Fold 5, Epoch stopped at 28 with validation loss: 0.6113 and validation accuracy: 0.6604\n"
     ]
    }
   ],
   "source": [
    "# Define the function to find the optimal hyperparameter\n",
    "def find_optimal_hyperparameter(X_train_scaled_dict, X_val_scaled_dict, y_train_dict, y_val_dict, batch_sizes, parameter_name):\n",
    "    # Define the dictionaries to store the mean cross-validation accuracies and the time taken to train the network on the last epoch for the different batch sizes\n",
    "    cross_validation_accuracies = {}\n",
    "    cross_validation_times = {}\n",
    "    cross_validation_losses = {}\n",
    "\n",
    "    # Define the variables from QA1\n",
    "    no_epochs = 100  # Define the number of epochs\n",
    "    no_folds = 5  # Define the number of folds\n",
    "    learning_rate = 0.001  # Learning rate for the optimizer\n",
    "    patience = 3  # Patience for the early stopper\n",
    "    no_features = X_train_scaled.shape[1]  # Number of input features\n",
    "    no_hidden = 128  # Number of neurons in each hidden layer\n",
    "    no_labels = 1  # Number of output labels\n",
    "    \n",
    "    # Loop through the different batch sizes\n",
    "    for batch_size in batch_sizes:\n",
    "        # Define the lists to store the cross-validation accuracies, losses and the time taken to train the network on the last epoch for the current batch size\n",
    "        batch_size_accuracies = []\n",
    "        batch_size_times = []\n",
    "        batch_size_losses = []\n",
    "        # Loop through the different folds\n",
    "        for fold in range(no_folds):\n",
    "            # Define the training and validation datasets\n",
    "            X_train = X_train_scaled_dict[batch_size][fold]\n",
    "            X_val = X_val_scaled_dict[batch_size][fold]\n",
    "            y_train = y_train_dict[batch_size][fold]\n",
    "            y_val = y_val_dict[batch_size][fold]\n",
    "            \n",
    "            # Define the dataloaders\n",
    "            train_dataloader, val_dataloader = intialise_loaders(X_train, y_train, X_val, y_val, batch_size)\n",
    "            \n",
    "            # Define the sizes of the batch and the dataset for the current fold\n",
    "            train_no_batches = len(train_dataloader)\n",
    "            train_size = len(train_dataloader.dataset)\n",
    "            val_no_batches = len(val_dataloader)\n",
    "            val_size = len(val_dataloader.dataset)\n",
    "            \n",
    "            # Define the model\n",
    "            model = MLP(no_features, no_hidden, no_labels)\n",
    "            \n",
    "            # Define the optimizer\n",
    "            optimizer = torch.optim.Adam(model.parameters(), lr=learning_rate)\n",
    "            \n",
    "            # Train the model\n",
    "            early_stopper = EarlyStopper(patience=patience)\n",
    "            for epoch in range(no_epochs):\n",
    "                # Start the timer\n",
    "                start_time = time.time()\n",
    "                # Set the model to train mode\n",
    "                model.train()\n",
    "                # Loop through the mini-batches and train the model\n",
    "                for X_batch, y_batch in train_dataloader:\n",
    "                    optimizer.zero_grad()  # Zero the gradients\n",
    "                    y_pred = model(X_batch)  # Perform a forward pass of the model\n",
    "                    loss = loss_fn(y_pred, y_batch)  # Compute the loss value between the predictions and the actual target values\n",
    "                    loss.backward()  # Backpropagate the gradients\n",
    "                    optimizer.step()  # Update the model parameters\n",
    "                \n",
    "                # Set the model to evaluation mode\n",
    "                model.eval()\n",
    "                # Define the variables to store the training and validation accuracy and loss values\n",
    "                val_loss, val_accuracy = 0, 0  # Define variables to store the loss and accuracy values for the test dataset\n",
    "                test_no_batches = len(val_dataloader)  # Define the number of mini-batches in the test dataset\n",
    "                test_size = len(val_dataloader.dataset) # Define the size of the dataset\n",
    "                # Disable gradient computation using the no_grad context, reducing memory consumption\n",
    "                with torch.no_grad():\n",
    "                    # Compute the test accuracy and loss\n",
    "                    for X_batch, y_batch in val_dataloader:\n",
    "                        y_pred = model(X_batch)  # Perform a forward pass of the model\n",
    "                        loss = loss_fn(y_pred, y_batch)  # Compute the loss value between the predictions and the actual target values\n",
    "                        \n",
    "                        # Compute the test accuracy and loss for the current batch\n",
    "                        val_loss += loss.item()  # Add the loss value to the running total\n",
    "                        val_accuracy += ((y_pred > 0.5) == y_batch).sum().item()  # Compute the number of correctly classified samples and add to the running total\n",
    "                    \n",
    "                # Compute the average test and test accuracy and loss values\n",
    "                val_accuracy /= test_size  # Compute the average test accuracy\n",
    "                val_loss /= test_no_batches  # Compute the average test loss\n",
    "                    \n",
    "                if early_stopper.early_stop(val_loss): \n",
    "                    end_time = time.time()\n",
    "                    batch_size_times.append(end_time - start_time)\n",
    "                    batch_size_accuracies.append(val_accuracy)\n",
    "                    batch_size_losses.append(val_loss)\n",
    "                    print(f\"Batch size {batch_size}, Fold {fold + 1}, Epoch stopped at {epoch + 1} with validation loss: {val_loss:.4f} and validation accuracy: {val_accuracy:.4f}\")\n",
    "                    break\n",
    "                    \n",
    "                    batch_size_accuracies.append(val_accuracy)  # Append the test accuracy to the list\n",
    "                    batch_size_losses.append(val_loss)  # Append the test loss to the list\n",
    "        \n",
    "        # Compute the mean cross-validation accuracy, loss and the time taken to train the network on the last epoch for the current batch size\n",
    "        cross_validation_accuracies[batch_size] = np.mean(batch_size_accuracies)\n",
    "        cross_validation_times[batch_size] = np.mean(batch_size_times)\n",
    "        cross_validation_losses[batch_size] = np.mean(batch_size_losses)\n",
    "        \n",
    "    # Return the mean cross-validation accuracies, losses and the time taken to train the network on the last epoch for the different batch sizes\n",
    "    return cross_validation_accuracies, cross_validation_times, cross_validation_losses\n",
    "        \n",
    "\n",
    "batch_sizes = [64, 128, 256, 512, 1024]\n",
    "cross_validation_accuracies, cross_validation_times, cross_validation_losses = find_optimal_hyperparameter(X_train_scaled_dict, X_val_scaled_dict, y_train_dict, y_val_dict, batch_sizes, 'batch_size')\n"
   ]
  },
  {
   "cell_type": "code",
   "execution_count": null,
   "metadata": {},
   "outputs": [],
   "source": []
  },
  {
   "cell_type": "markdown",
   "metadata": {},
   "source": [
    "4.Plot scatterplot of mean cross validation accuracies for the different batch sizes."
   ]
  },
  {
   "cell_type": "code",
   "execution_count": 6,
   "metadata": {},
   "outputs": [
    {
     "data": {
      "image/png": "[encoded data removed]",
      "text/plain": [
       "<Figure size 1000x600 with 1 Axes>"
      ]
     },
     "metadata": {},
     "output_type": "display_data"
    }
   ],
   "source": [
    "# Plot the scatterplot of mean cross-validation accuracies for the different batch sizes\n",
    "plt.figure(figsize=(10, 6))\n",
    "plt.scatter(cross_validation_accuracies.keys(), cross_validation_accuracies.values(), color='blue')\n",
    "plt.title('Mean Cross-Validation Accuracies for Different Batch Sizes')\n",
    "plt.xlabel('Batch Size')\n",
    "plt.ylabel('Mean Cross-Validation Accuracy')\n",
    "plt.show()"
   ]
  },
  {
   "cell_type": "code",
   "execution_count": 7,
   "metadata": {
    "ExecuteTime": {
     "end_time": "2024-03-03T13:58:07.375649Z",
     "start_time": "2024-03-03T13:58:07.343962Z"
    }
   },
   "outputs": [
    {
     "data": {
      "image/png": "[encoded data removed]",
      "text/plain": [
       "<Figure size 2000x600 with 3 Axes>"
      ]
     },
     "metadata": {},
     "output_type": "display_data"
    }
   ],
   "source": [
    "# Plot the 3 plots for the mean cross-validation accuracies, losses and the time taken to train the network on the last epoch for the different batch sizes\n",
    "plt.figure(figsize=(20, 6))\n",
    "\n",
    "# Plot mean cross-validation accuracy for different batch sizes\n",
    "plt.subplot(1, 3, 1)\n",
    "plt.scatter(list(cross_validation_accuracies.keys()), list(cross_validation_accuracies.values()), marker='o')\n",
    "plt.title('Mean Cross-Validation Accuracy for Different Batch Sizes')\n",
    "plt.xlabel('Batch Size')\n",
    "plt.ylabel('Mean Accuracy')\n",
    "plt.grid(True)\n",
    "\n",
    "# Plot mean cross-validation loss for different batch sizes\n",
    "plt.subplot(1, 3, 2)\n",
    "plt.scatter(list(cross_validation_losses.keys()), list(cross_validation_losses.values()), marker='o', color='orange')\n",
    "plt.title('Mean Cross-Validation Loss for Different Batch Sizes')\n",
    "plt.xlabel('Batch Size')\n",
    "plt.ylabel('Mean Loss')\n",
    "plt.grid(True)\n",
    "\n",
    "# Plot mean time taken to train for different batch sizes\n",
    "plt.subplot(1, 3, 3)\n",
    "plt.scatter(list(cross_validation_times.keys()), list(cross_validation_times.values()), marker='o', color='green')\n",
    "plt.title('Mean Time Taken to Train for Different Batch Sizes')\n",
    "plt.xlabel('Batch Size')\n",
    "plt.ylabel('Mean Time (s)')\n",
    "plt.grid(True)\n",
    "\n",
    "plt.tight_layout()\n",
    "plt.show()"
   ]
  },
  {
   "cell_type": "markdown",
   "metadata": {},
   "source": [
    "\n",
    "4.Create a table of time taken to train the network on the last epoch against different batch sizes. Select the optimal batch size and state a reason for your selection."
   ]
  },
  {
   "cell_type": "code",
   "execution_count": 8,
   "metadata": {},
   "outputs": [
    {
     "data": {
      "text/html": [
       "<div>\n",
       "<style scoped>\n",
       "    .dataframe tbody tr th:only-of-type {\n",
       "        vertical-align: middle;\n",
       "    }\n",
       "\n",
       "    .dataframe tbody tr th {\n",
       "        vertical-align: top;\n",
       "    }\n",
       "\n",
       "    .dataframe thead th {\n",
       "        text-align: right;\n",
       "    }\n",
       "</style>\n",
       "<table border=\"1\" class=\"dataframe\">\n",
       "  <thead>\n",
       "    <tr style=\"text-align: right;\">\n",
       "      <th></th>\n",
       "      <th>Batch Size</th>\n",
       "      <th>Last Epoch Time</th>\n",
       "      <th>Mean Cross-Validation Accuracy</th>\n",
       "      <th>Mean Cross-Validation Loss</th>\n",
       "    </tr>\n",
       "  </thead>\n",
       "  <tbody>\n",
       "    <tr>\n",
       "      <th>0</th>\n",
       "      <td>64</td>\n",
       "      <td>0.269880</td>\n",
       "      <td>0.744415</td>\n",
       "      <td>0.534345</td>\n",
       "    </tr>\n",
       "    <tr>\n",
       "      <th>1</th>\n",
       "      <td>128</td>\n",
       "      <td>0.188832</td>\n",
       "      <td>0.736339</td>\n",
       "      <td>0.537388</td>\n",
       "    </tr>\n",
       "    <tr>\n",
       "      <th>2</th>\n",
       "      <td>256</td>\n",
       "      <td>0.148862</td>\n",
       "      <td>0.715880</td>\n",
       "      <td>0.564864</td>\n",
       "    </tr>\n",
       "    <tr>\n",
       "      <th>3</th>\n",
       "      <td>512</td>\n",
       "      <td>0.132357</td>\n",
       "      <td>0.722517</td>\n",
       "      <td>0.556073</td>\n",
       "    </tr>\n",
       "    <tr>\n",
       "      <th>4</th>\n",
       "      <td>1024</td>\n",
       "      <td>0.120415</td>\n",
       "      <td>0.681487</td>\n",
       "      <td>0.592502</td>\n",
       "    </tr>\n",
       "  </tbody>\n",
       "</table>\n",
       "</div>"
      ],
      "text/plain": [
       "   Batch Size  Last Epoch Time  Mean Cross-Validation Accuracy  \\\n",
       "0          64         0.269880                        0.744415   \n",
       "1         128         0.188832                        0.736339   \n",
       "2         256         0.148862                        0.715880   \n",
       "3         512         0.132357                        0.722517   \n",
       "4        1024         0.120415                        0.681487   \n",
       "\n",
       "   Mean Cross-Validation Loss  \n",
       "0                    0.534345  \n",
       "1                    0.537388  \n",
       "2                    0.564864  \n",
       "3                    0.556073  \n",
       "4                    0.592502  "
      ]
     },
     "execution_count": 8,
     "metadata": {},
     "output_type": "execute_result"
    }
   ],
   "source": [
    "df = pd.DataFrame({'Batch Size': cross_validation_times.keys(), # Get the batch sizes from the dictionary's keys\n",
    "                   'Last Epoch Time': cross_validation_times.values(), # Get the time taken to train the network on the last epoch from the dictionary's values\n",
    "                    'Mean Cross-Validation Accuracy': cross_validation_accuracies.values(), # Get the mean cross-validation accuracy from the dictionary's values\n",
    "                    'Mean Cross-Validation Loss': cross_validation_losses.values() # Get the mean cross-validation loss from the dictionary's values\n",
    "                  })\n",
    "\n",
    "df"
   ]
  },
  {
   "cell_type": "code",
   "execution_count": 9,
   "metadata": {},
   "outputs": [
    {
     "name": "stdout",
     "output_type": "stream",
     "text": [
      "Mean Cross-Validation Accuracy difference between batch size 64 and 128: 1.08%\n",
      "Mean Cross-Validation Loss difference between batch size 64 and 128: 0.57%\n",
      "Mean Time Taken to Train difference between batch size 64 and 128: 30.03%\n"
     ]
    }
   ],
   "source": [
    "# Calculating the differance (in percents) between the statistics for batch size 64 and 128\n",
    "print(f\"Mean Cross-Validation Accuracy difference between batch size 64 and 128: {abs(cross_validation_accuracies[64] - cross_validation_accuracies[128]) / cross_validation_accuracies[64] * 100:.2f}%\")\n",
    "print(f\"Mean Cross-Validation Loss difference between batch size 64 and 128: {abs(cross_validation_losses[64] - cross_validation_losses[128]) / cross_validation_losses[64] * 100:.2f}%\")\n",
    "print(f\"Mean Time Taken to Train difference between batch size 64 and 128: {abs(cross_validation_times[64] - cross_validation_times[128]) / cross_validation_times[64] * 100:.2f}%\")"
   ]
  },
  {
   "cell_type": "code",
   "execution_count": 10,
   "metadata": {},
   "outputs": [],
   "source": [
    "# Select the optimal batch size\n",
    "optimal_batch_size = 128 \n",
    "reason = \"\"\"\n",
    "Despite the fact that the batch size of 64 has the highest mean cross-validation accuracy and lowest loss, the time taken to train the network on the last epoch is significantly higher than the batch size of 128. The batch size of 128 has the second highest mean cross-validation accuracy and second lowest loss, and much lower time taken to train the network on the last epoch. Also, the difference in the performance (accuracy and loss) are around 1%, while the time difference is ~30% of the time for batch size 64. As we also consider efficiency and time, batch size of 128 performs similarly with much less time needed. Therefore, the batch size of 128 is the optimal batch size for mini-batch gradient descent.\n",
    "\"\"\""
   ]
  },
  {
   "cell_type": "code",
   "execution_count": null,
   "metadata": {},
   "outputs": [],
   "source": []
  }
 ],
 "metadata": {
  "kernelspec": {
   "display_name": "Python 3 (ipykernel)",
   "language": "python",
   "name": "python3"
  },
  "language_info": {
   "codemirror_mode": {
    "name": "ipython",
    "version": 3
   },
   "file_extension": ".py",
   "mimetype": "text/x-python",
   "name": "python",
   "nbconvert_exporter": "python",
   "pygments_lexer": "ipython3",
   "version": "3.10.9"
  }
 },
 "nbformat": 4,
 "nbformat_minor": 2
}
