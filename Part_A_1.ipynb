{
 "cells": [
  {
   "cell_type": "markdown",
   "metadata": {},
   "source": [
    "# Question A1 (15 marks)"
   ]
  },
  {
   "cell_type": "markdown",
   "metadata": {},
   "source": [
    "#### Design a feedforward deep neural network (DNN) which consists of **three** hidden layers of 128 neurons each with ReLU activation function, and an output layer with sigmoid activation function. Apply dropout of probability **0.2** to each of the hidden layers."
   ]
  },
  {
   "cell_type": "code",
   "execution_count": 1,
   "metadata": {
    "ExecuteTime": {
     "end_time": "2024-03-03T03:28:22.926338Z",
     "start_time": "2024-03-03T03:28:22.921644Z"
    }
   },
   "outputs": [],
   "source": [
    "import tqdm\n",
    "import time\n",
    "import random\n",
    "import numpy as np\n",
    "import pandas as pd\n",
    "import matplotlib.pyplot as plt\n",
    "\n",
    "import torch\n",
    "from torch import nn\n",
    "from torch.utils.data import Dataset\n",
    "from torch.utils.data import DataLoader\n",
    "\n",
    "from scipy.io import wavfile as wav\n",
    "\n",
    "from sklearn import preprocessing\n",
    "from sklearn.model_selection import KFold\n",
    "from sklearn.model_selection import train_test_split\n",
    "from sklearn.metrics import f1_score, precision_score, recall_score, confusion_matrix\n",
    "\n",
    "from common_utils import set_seed\n",
    "\n",
    "# setting seed\n",
    "set_seed()"
   ]
  },
  {
   "cell_type": "markdown",
   "metadata": {},
   "source": [
    "1.Define the model class."
   ]
  },
  {
   "cell_type": "code",
   "execution_count": 2,
   "metadata": {
    "ExecuteTime": {
     "end_time": "2024-03-03T03:28:22.956214Z",
     "start_time": "2024-03-03T03:28:22.952245Z"
    }
   },
   "outputs": [],
   "source": [
    "class MLP(nn.Module):\n",
    "\n",
    "    def __init__(self, no_features, no_hidden, no_labels):\n",
    "        super().__init__()\n",
    "        self.mlp_stack = nn.Sequential(\n",
    "            # Define the layers of the network\n",
    "            \n",
    "            # Define the Input Layer --> 1st Hidden Layer\n",
    "            nn.Linear(no_features, no_hidden),  # Input layer to 1st hidden layer with 'no_features number' of input features and 'no_hidden number' of neurons\n",
    "            nn.ReLU(),  # ReLU activation function\n",
    "            nn.Dropout(p=0.2),  # Applying dropout with probability 0.2\n",
    "\n",
    "            # Define the 1st Hidden Layer --> 2nd Hidden Layer\n",
    "            nn.Linear(no_hidden, no_hidden),  # 1st hidden layer to 2nd hidden layer with 'no_features number' of input features and 'no_hidden number' of neurons\n",
    "            nn.ReLU(),  # ReLU activation function\n",
    "            nn.Dropout(p=0.2),  # Applying dropout with probability 0.2\n",
    "\n",
    "            # Define the 2nd Hidden Layer --> 3rd Hidden Layer\n",
    "            nn.Linear(no_hidden, no_hidden), # 2nd hidden layer to 3rd hidden layer with 'no_features number' of input features and 'no_hidden number' of neurons\n",
    "            nn.ReLU(),  # ReLU activation function\n",
    "            nn.Dropout(p=0.2),  # Applying dropout with probability 0.2\n",
    "\n",
    "            # Define the 3rd Hidden Layer --> Output Layer\n",
    "            nn.Linear(no_hidden, no_labels),  # 3rd hidden layer to output layer with 'no_hidden number' of neurons and 'no_labels number' of output neurons\n",
    "            nn.Sigmoid()  # Sigmoid activation function for binary classification\n",
    "        )\n",
    "\n",
    "    def forward(self, x):\n",
    "        # Pass the input tensor through the layers\n",
    "        return self.mlp_stack(x)"
   ]
  },
  {
   "cell_type": "code",
   "execution_count": null,
   "metadata": {
    "ExecuteTime": {
     "end_time": "2024-03-03T03:28:22.959058Z",
     "start_time": "2024-03-03T03:28:22.957535Z"
    }
   },
   "outputs": [],
   "source": []
  },
  {
   "cell_type": "code",
   "execution_count": null,
   "metadata": {
    "ExecuteTime": {
     "end_time": "2024-03-03T03:28:22.961347Z",
     "start_time": "2024-03-03T03:28:22.960004Z"
    }
   },
   "outputs": [],
   "source": []
  },
  {
   "cell_type": "markdown",
   "metadata": {},
   "source": [
    "#### Divide the dataset into a 75:25 ratio for training and testing. Use **appropriate** scaling of input features. We solely assume that there are only two datasets here: training & test."
   ]
  },
  {
   "cell_type": "markdown",
   "metadata": {},
   "source": [
    "2.Split the dataset and do preprocessing."
   ]
  },
  {
   "cell_type": "code",
   "execution_count": 3,
   "metadata": {
    "ExecuteTime": {
     "end_time": "2024-03-03T03:28:23.107615Z",
     "start_time": "2024-03-03T03:28:22.962774Z"
    }
   },
   "outputs": [],
   "source": [
    "from common_utils import split_dataset, preprocess_dataset\n",
    "\n",
    "\n",
    "def preprocess(df):\n",
    "    drop_columns = ['filename', 'label']  # Columns to be dropped from the dataframe\n",
    "    X_train, y_train, X_test, y_test = split_dataset(df, drop_columns, test_size=0.25, random_state=0)  # Split the dataset with test_size=0.25 to achieve 75:25 train-test ratio\n",
    "    X_train_scaled, X_test_scaled = preprocess_dataset(X_train, X_test)  # Scale the input features\n",
    "    return X_train_scaled, y_train, X_test_scaled, y_test\n",
    "\n",
    "\n",
    "df = pd.read_csv('simplified.csv')\n",
    "df['label'] = df['filename'].str.split('_').str[-2]\n",
    "\n",
    "df['label'].value_counts()\n",
    "\n",
    "X_train_scaled, y_train, X_test_scaled, y_test = preprocess(df)"
   ]
  },
  {
   "cell_type": "code",
   "execution_count": 4,
   "metadata": {
    "ExecuteTime": {
     "end_time": "2024-03-03T03:28:23.116756Z",
     "start_time": "2024-03-03T03:28:23.108364Z"
    }
   },
   "outputs": [
    {
     "name": "stdout",
     "output_type": "stream",
     "text": [
      "Shape of X_train_scaled: (9042, 77)\n",
      "Shape of y_train: (9042,)\n",
      "Shape of X_test_scaled: (3015, 77)\n",
      "Shape of y_test: (3015,)\n",
      "First few rows of X_train_scaled: \n",
      "[[ 0.44137451  1.77605185  1.51650185  1.42157595 -1.42010962 -1.43737649\n",
      "  -0.29742945 -1.66252977  1.65148094  0.31821084 -0.25363233  1.34939229\n",
      "  -0.51104986 -0.32903903 -0.40618406  0.68775567  0.04319171 -1.45695556\n",
      "  -0.83400083 -1.68073577  0.09933238 -1.36991439 -1.38762997 -1.52681966\n",
      "  -1.52681966  0.84021521  0.84021521  1.29557517  0.97066745 -1.09197796\n",
      "  -0.75452352  0.05754557  0.46046179  0.24129754  0.07766363  0.09176629\n",
      "   0.23410681  0.67884866 -0.58566732  1.9252136  -0.14289498  0.27453873\n",
      "  -0.41186116 -0.11354444 -0.07582642  1.27536112 -0.51758991 -0.19674381\n",
      "  -0.70278914  0.74444184 -1.14591715 -0.48804359 -0.62360565  0.93409017\n",
      "  -1.42084642  0.5120218  -1.25041359  0.37837994 -0.17591405  1.55782509\n",
      "  -0.66820248 -0.09104393 -1.29357461  1.05503949 -0.28286209 -0.30295614\n",
      "  -0.55386369  0.70020529 -0.87393173 -0.08881286 -0.60144357 -0.60798458\n",
      "  -0.23798142  1.22439766 -0.65605413 -0.99571065 -0.34986906]\n",
      " [-0.27737519 -0.61292266 -0.60466867 -1.01534234  0.762123   -0.90691603\n",
      "   1.48863169 -0.96715364  0.98680315 -0.29291114 -0.3176882  -0.52151342\n",
      "  -0.09833054  0.19866866  0.9013955  -0.07863766 -0.30940871  0.04375425\n",
      "  -0.11969581 -0.21492912  0.21566182  0.99321485 -0.78875717  0.11462593\n",
      "   0.11462593 -0.11650542 -0.11650542  1.28583221  1.09669965 -0.08830534\n",
      "  -0.41995858  0.05343265 -0.16057907  0.20464883 -0.30493458 -0.57476678\n",
      "  -0.14097143  0.05199206  0.25917632 -0.02295538 -0.21407235 -0.67411014\n",
      "   1.67853983  0.90723144  0.77491437  0.07880988 -0.06447683 -1.13277007\n",
      "   0.51834222 -0.16169781  0.3578753  -1.14304215  1.18147416  0.2174404\n",
      "   0.01170099 -0.80108458  0.82282069 -0.79926321  0.42747402  0.07258996\n",
      "   0.25818237 -1.21975084  0.38264251 -0.06895216 -0.51702217 -0.84275213\n",
      "  -0.58773892 -0.80695927 -0.52610434 -0.82439781 -0.39735661  0.13199125\n",
      "  -0.24772339 -0.30798541  0.41846572 -1.09184928  0.22192079]\n",
      " [-0.98373266 -0.6282114  -0.42618457  0.14651681  0.08857871 -1.21430859\n",
      "   0.94160049 -1.57229124  1.56653157  0.02957372 -0.06326206  0.43958546\n",
      "  -0.19217988  0.32804005  0.25857236  0.21341174  0.09460101 -0.22590274\n",
      "   0.51771856 -0.59490456 -0.98471192  0.63760535 -0.66115153 -0.11726121\n",
      "  -0.11726121  0.21198623  0.21198623  2.72371879  2.28471539 -0.09988036\n",
      "   0.53557177  0.05469733  0.43782042  0.22474192 -0.24782091  0.76863321\n",
      "   0.69775094  0.19761651  0.49082137 -0.23945318  0.67174868  0.64498652\n",
      "   0.39353041  0.51892546  0.74790882  1.41901004  2.61296401 -0.51797557\n",
      "   1.36496876  0.99947191 -0.25049981 -1.01785744 -0.14495948 -1.41735619\n",
      "   1.18687644  0.47363284  0.51473798 -0.60255002  1.54831439 -0.74688007\n",
      "   4.61251037  0.38200763 -0.41271198  0.11876688  0.01229198 -0.01114416\n",
      "   1.79033965  1.42597601 -0.412144   -0.85933556  0.30926962  1.52229489\n",
      "   0.54082076  2.31652813  0.16344899 -0.20990539 -0.34801204]\n",
      " [-1.07398945  0.20568005  0.74752123 -0.27088263 -0.47144985  0.62682216\n",
      "  -1.44236242  0.34162098 -0.32689968 -0.79650282 -0.39354691  0.54901625\n",
      "   0.19608966  0.12727039 -1.32948598 -0.97636028 -0.81829623 -0.56705105\n",
      "  -0.83244332 -0.79675165  0.40450133 -0.97991178  0.51307341 -0.85700654\n",
      "  -0.85700654 -0.75523915 -0.75523915  0.99852597 -0.89998822 -0.18880427\n",
      "  -0.65546476  0.03737717 -0.74458396  0.18056123 -0.73309834 -1.33774908\n",
      "  -0.69141077 -0.10219088 -1.289725    1.98530306 -0.80433282 -1.95633684\n",
      "  -1.13873834 -1.37993692 -1.48195945 -1.42759598 -0.85830723  2.18855256\n",
      "  -0.9045865   1.4041975  -1.02005077  0.82713175  1.24684838  0.62868128\n",
      "  -0.83810348  0.61981333 -0.2251601   0.54871458 -0.47327646  0.60996608\n",
      "  -0.33562811  1.26055833 -0.97018748  0.64320481 -0.7269745   0.47355286\n",
      "   0.4059895   0.20627603 -0.7086035   1.95721155 -0.82982472 -0.37379267\n",
      "  -0.69410051  0.29360306 -0.44583041  0.62201194 -0.74822038]\n",
      " [-0.67130532  0.9048122   1.33821499 -0.88998725  1.15825473 -0.57223774\n",
      "  -0.11040393 -0.21104073  0.23783293 -0.64371917 -0.37353014  0.13577235\n",
      "   0.00747211  0.15411572 -0.73066937 -0.6678026  -0.64603206 -0.51292091\n",
      "  -0.98012552 -0.54519964 -0.71131556  0.15591215  0.48761187 -0.46206782\n",
      "  -0.46206782 -0.63606341 -0.63606341  0.19156883  0.34429071 -0.48698432\n",
      "  -0.79950384  0.05335211 -0.52686614  0.23830919 -0.65485613  0.27777552\n",
      "   0.41413258 -0.11223996 -0.76992056  0.51609866 -0.90968433 -0.51366837\n",
      "  -0.431808   -0.34903169 -0.02578169 -0.04681702 -0.88281274 -0.94237745\n",
      "  -0.71829391  0.48356446 -1.11734971 -0.15935363 -0.61243718  0.81431452\n",
      "  -0.13686811  0.34839518 -0.48793474  0.33939612 -0.49421513  0.74322573\n",
      "  -0.77541115 -1.452921    0.19520949  0.53285433 -0.14124887  0.66035738\n",
      "  -0.65723732  0.07675622  0.47243479  0.68486816 -0.0622726   1.46090343\n",
      "   0.14608698  1.70168498  0.08425164  0.78641804  0.75876547]]\n",
      "First few rows of y_train: \n",
      "[0 0 1 1 0]\n",
      "First few rows of X_test_scaled: \n",
      "[[ 4.41374511e-01 -4.18318872e-01 -3.55183814e-01 -2.44073724e-01\n",
      "   3.57844275e-01  5.11773928e-02  4.79825081e-01  3.46474180e-01\n",
      "  -3.31923558e-01  3.05633549e+00  2.42046782e+00  4.20927610e-01\n",
      "  -8.77706606e-01 -7.13296526e-01  2.62186072e+00  2.70222699e+00\n",
      "   3.36261125e+00  1.97959267e+00  3.13722152e+00  1.11947538e+00\n",
      "   7.67164880e-01  1.65581257e+00  4.04965910e-01  1.76783438e+00\n",
      "   1.76783438e+00  2.93426142e+00  2.93426142e+00 -4.72508825e-01\n",
      "  -7.00168580e-01  1.95088238e+00  2.69577659e+00  3.48412882e-02\n",
      "   3.43470592e+00 -6.85313318e-01  3.00881084e+00  5.89513215e-01\n",
      "   4.11580416e-01  1.19290613e+00  4.43022886e+00 -1.57273313e+00\n",
      "   3.14251449e+00 -1.47778381e-01  1.16074531e+00  1.91340164e-01\n",
      "   1.08444341e+00  1.44046600e-01  2.48103530e+00 -7.60652748e-02\n",
      "   2.85984205e+00 -4.41566293e-01  1.93092811e+00  1.69403068e+00\n",
      "   1.93555069e+00 -1.18625412e+00  1.42151912e+00  7.61223666e-01\n",
      "   1.51500640e-01 -4.42248756e-01 -2.04800580e-01 -1.18462842e+00\n",
      "   1.17386527e+00  6.59420454e-01  3.22540850e-01 -5.56562927e-01\n",
      "   2.63796206e+00  8.84046705e-01  2.00245221e+00  1.51792167e+00\n",
      "   1.39710275e+00  1.57954931e-01  1.26241354e+00 -1.55983219e+00\n",
      "   1.38875842e+00  2.01737998e+00  8.43072985e-01 -2.43191710e+00\n",
      "   5.32993535e-01]\n",
      " [-1.23757987e+00 -4.79910645e-01 -9.19478237e-02  1.19980222e+00\n",
      "  -4.10218556e-01 -1.73001374e+00  6.93737337e-01 -2.97803596e+00\n",
      "   2.84567224e+00  3.84817819e-01 -1.19950480e-01  5.95203802e-01\n",
      "   1.71110846e+00 -1.08219855e+00  2.44234385e+00  5.53285664e-01\n",
      "   3.61914015e-01 -1.12424657e+00  6.38211626e-01 -1.55608321e+00\n",
      "   2.42118183e+00  2.26795508e+00 -1.75404979e+00 -1.36668998e+00\n",
      "  -1.36668998e+00  2.93806756e-02  2.93806756e-02  1.08776879e+00\n",
      "   7.79239257e-01 -8.22495312e-01 -2.05999964e-01  5.38516714e-02\n",
      "   1.36242313e+00  3.89151336e-01 -3.91078357e-01 -9.89842932e-01\n",
      "  -7.60397621e-01 -1.41973820e+00  1.26420932e+00 -5.53036005e-01\n",
      "   2.85520488e+00  2.39476717e+00  6.15173673e-01  8.70200211e-01\n",
      "   2.60872395e+00  2.73766913e+00  1.86310506e+00  1.70054758e+00\n",
      "   6.27248334e-01  7.12921502e-01  2.38812592e+00  5.40834143e-03\n",
      "   2.23716272e+00  9.75441609e-01  2.27906395e+00 -1.58769061e-01\n",
      "   3.67977422e+00 -1.18933973e+00  3.86487220e+00 -2.83278731e-01\n",
      "   3.59677736e+00  3.35764963e+00  3.18477475e+00  2.90011072e+00\n",
      "   8.88143907e-01 -9.77672820e-01  4.74135496e+00  3.03868523e+00\n",
      "   3.19128217e+00  1.38249248e+00  1.01964426e+00 -1.18742225e+00\n",
      "   5.61873097e+00  1.01255228e+00  2.56717085e+00 -8.54086319e-01\n",
      "   5.95987828e-01]\n",
      " [ 4.77734828e-02 -5.75792873e-01 -5.67414323e-01 -3.04196911e-02\n",
      "   1.06514228e-01  2.05125321e-01  1.18899173e-01  1.52537923e-02\n",
      "   8.36142533e-03  1.12131732e+00  3.42354111e-01  6.88251402e-01\n",
      "  -9.23287969e-01  4.53915516e+00  4.00307458e+00  1.56013939e+00\n",
      "   8.61128355e-01  1.19112649e+00  2.25004701e+00  5.03717945e-01\n",
      "   4.07822823e-01  1.74252430e+00  1.91452403e-01  9.21879851e-01\n",
      "   9.21879851e-01  1.81538986e+00  1.81538986e+00 -1.26440332e+00\n",
      "  -7.98832046e-01  1.17217700e+00  1.51392234e+00  1.63402575e-02\n",
      "   1.01061591e+00 -4.90596849e-01  1.45378551e+00 -3.56033704e-01\n",
      "   4.37999286e-02  1.14698409e+00  2.03460436e+00 -9.04920660e-01\n",
      "   2.42394904e+00 -2.07328788e-01  1.99410150e+00  9.95598940e-01\n",
      "   1.86114607e+00 -7.48007000e-02  1.77305911e+00 -5.13228455e-01\n",
      "   2.28787017e+00 -1.41333206e-01  1.62220432e+00  2.35074810e+00\n",
      "   1.59547135e+00 -4.16829733e-01  4.55850914e-01  9.79950069e-01\n",
      "   4.04815057e-02 -5.77901422e-01  6.91266463e-01 -9.63366147e-01\n",
      "   9.06270713e-01  1.33270817e+00  1.20969215e+00 -2.79349566e-01\n",
      "   2.57889337e+00  6.73774077e-01  2.05837669e+00  1.05425019e-01\n",
      "   1.69441915e+00 -6.69596883e-01  1.62474615e+00 -2.96009320e-01\n",
      "   5.36791636e-01  1.97778113e+00  1.05818452e+00 -3.15481665e+00\n",
      "   1.65567276e+00]\n",
      " [ 1.54345739e+00 -7.12645194e-02 -1.24361211e-01 -4.52892389e-01\n",
      "   1.35956933e+00  5.84871775e-01  1.03205558e+00  6.07150952e-01\n",
      "  -6.03422964e-01 -9.18273860e-02 -2.69442267e-01  9.50809558e-03\n",
      "   7.16562651e-02  9.34808949e-01  3.52877089e-01  6.99134183e-02\n",
      "  -5.74820213e-03 -6.37589069e-01 -1.07474219e+00 -4.47922903e-01\n",
      "  -1.45740356e-01  6.06069905e-01 -1.02278425e-01 -5.51264271e-01\n",
      "  -5.51264271e-01 -1.62436531e-02 -1.62436531e-02  7.69222066e-02\n",
      "   3.98660097e-01 -7.81276297e-01 -8.53410623e-01  7.31972695e-02\n",
      "   2.12054486e-01  2.33886096e-01 -2.16488657e-01  1.45157832e-01\n",
      "  -1.87865885e-02 -9.26675547e-02  7.89474169e-01  1.73783145e-01\n",
      "  -4.18507301e-01  1.68278524e-01  1.72170284e+00 -1.01661173e+00\n",
      "   1.91465485e-02 -2.16041270e-02 -3.92222850e-01 -7.80186268e-01\n",
      "  -1.38922345e-01  7.22474640e-01 -2.20022129e-01 -3.58424245e-01\n",
      "   4.65267346e-01  1.07097675e+00  7.47411090e-02  3.05026893e-01\n",
      "   4.18511654e-01 -1.98071604e-01 -2.02633572e-01  1.94750446e+00\n",
      "   1.34492667e-01 -5.50488985e-01  1.12923952e+00  9.73037278e-01\n",
      "   9.10736399e-01  5.10874332e-01 -5.02959035e-01 -1.21804440e+00\n",
      "   5.31175135e-01 -2.34844414e-01  4.08726212e-02  4.93393808e-01\n",
      "  -1.41025139e-01  3.67127834e-02 -2.73957170e-02  2.97028367e-02\n",
      "   2.42588640e-01]\n",
      " [-2.77375193e-01 -6.40879214e-01 -7.12432657e-01 -1.07051793e-01\n",
      "  -1.30363928e-02  1.32296853e+00 -9.99085013e-01  6.37840197e-01\n",
      "  -6.35600104e-01  3.86080764e-01  6.21941624e-01  1.79886616e-01\n",
      "  -2.26721494e-01  6.79104685e-01 -8.63315748e-01 -8.11604139e-02\n",
      "   1.20486434e+00 -6.21780167e-02 -8.89383403e-01  2.48955265e-01\n",
      "  -7.13471653e-01 -9.60353035e-01 -1.16538537e-01  1.31259513e-01\n",
      "   1.31259513e-01 -1.49201693e-01 -1.49201693e-01  7.25324113e-01\n",
      "  -7.19145194e-01 -1.99019021e-01 -7.54660543e-01  7.47721263e-02\n",
      "   2.35358410e-01  2.40768507e-01  4.41337976e-01  1.12433986e-01\n",
      "  -2.56777686e-01  3.93136736e-02  2.00215790e-01 -8.00366334e-01\n",
      "  -1.10654514e-01  3.76597710e-01 -8.69164040e-01 -1.69576893e+00\n",
      "  -1.01190784e+00  8.33301064e-01  3.72232626e-01 -3.12009909e-01\n",
      "  -5.13151027e-01  1.15866367e+00 -1.23647264e+00 -3.60671199e-02\n",
      "  -7.41689600e-01  2.35146692e-01  8.14506034e-01  1.21806880e+00\n",
      "  -6.62348687e-01 -1.56286086e-01  4.27112792e-01  2.30318537e-01\n",
      "  -4.05468589e-01 -2.31373527e-02 -7.59965445e-01  8.94282390e-04\n",
      "  -2.39965263e-02 -1.27840592e-01  4.84486865e-01  1.21052075e+00\n",
      "  -9.69866157e-02  2.47506748e-01  2.68390275e-01  1.71733176e+00\n",
      "  -2.46025883e-01  1.93361782e+00  3.54604920e-01  4.38735332e-01\n",
      "  -3.69612727e-02]]\n",
      "First few rows of y_test: \n",
      "[1 0 0 1 0]\n"
     ]
    }
   ],
   "source": [
    "# Perform data analysis to check the shape of the datasets\n",
    "print(f\"Shape of X_train_scaled: {X_train_scaled.shape}\")\n",
    "print(f\"Shape of y_train: {y_train.shape}\")\n",
    "print(f\"Shape of X_test_scaled: {X_test_scaled.shape}\")\n",
    "print(f\"Shape of y_test: {y_test.shape}\")\n",
    "\n",
    "# Perform data analysis to check the first few rows of the datasets using the head() function\n",
    "print(f\"First few rows of X_train_scaled: \\n{X_train_scaled[:5]}\")\n",
    "print(f\"First few rows of y_train: \\n{y_train[:5]}\")\n",
    "print(f\"First few rows of X_test_scaled: \\n{X_test_scaled[:5]}\")\n",
    "print(f\"First few rows of y_test: \\n{y_test[:5]}\")"
   ]
  },
  {
   "cell_type": "markdown",
   "metadata": {},
   "source": [
    "#### Use the training dataset to train the model for 100 epochs. Use a mini-batch gradient descent with **‘Adam’** optimizer with learning rate of **0.001**, and **batch size = 128**. Implement early stopping with patience of **3**."
   ]
  },
  {
   "cell_type": "markdown",
   "metadata": {},
   "source": [
    "3.Define a Pytorch Dataset and Dataloaders.  "
   ]
  },
  {
   "cell_type": "code",
   "execution_count": 5,
   "metadata": {
    "ExecuteTime": {
     "end_time": "2024-03-03T03:28:23.123931Z",
     "start_time": "2024-03-03T03:28:23.118998Z"
    }
   },
   "outputs": [],
   "source": [
    "class CustomDataset(Dataset):\n",
    "    def __init__(self, X, y):\n",
    "        self.X = torch.tensor(X, dtype=torch.float)  # Convert the input features to PyTorch tensors with the appropriate float datatype \n",
    "        self.y = torch.tensor(y, dtype=torch.float).unsqueeze(1)  # Convert the outputs to PyTorch tensors with the appropriate float datatype convert from 1D to 2D tensor\n",
    "\n",
    "    def __len__(self):\n",
    "        return len(self.y)  # Return the number of samples in the dataset\n",
    "\n",
    "    def __getitem__(self, idx):\n",
    "        return self.X[idx], self.y[idx]  # Return the input features and the outputs for the given index\n",
    "\n",
    "\n",
    "def intialise_loaders(X_train_scaled, y_train, X_test_scaled, y_test):\n",
    "    batch_size = 128 # Define a variable for the specified batch size\n",
    "    \n",
    "    # Create a custom dataset for the training and test sets\n",
    "    train_dataset = CustomDataset(X_train_scaled, y_train)\n",
    "    test_dataset = CustomDataset(X_test_scaled, y_test)\n",
    "\n",
    "    # Create a DataLoader for the training and test sets\n",
    "    # Shuffle the datasets to ensure that the model does not overfit to the order of the samples\n",
    "    # Set the batch size to the specified batch size\n",
    "    train_dataloader = DataLoader(train_dataset, batch_size=batch_size, shuffle=True)\n",
    "    test_dataloader = DataLoader(test_dataset, batch_size=batch_size, shuffle=True)\n",
    "    return train_dataloader, test_dataloader\n",
    "\n",
    "\n",
    "train_dataloader, test_dataloader = intialise_loaders(X_train_scaled, y_train, X_test_scaled, y_test)"
   ]
  },
  {
   "cell_type": "code",
   "execution_count": 6,
   "metadata": {
    "ExecuteTime": {
     "end_time": "2024-03-03T03:28:23.127796Z",
     "start_time": "2024-03-03T03:28:23.124999Z"
    }
   },
   "outputs": [
    {
     "name": "stdout",
     "output_type": "stream",
     "text": [
      "Number of batches in the training dataloader: 71\n",
      "Number of batches in the test dataloader: 24\n",
      "Size of the training dataloader: 9042\n",
      "Size of the test dataloader: 3015\n"
     ]
    }
   ],
   "source": [
    "# Analyse the sizes of the training and test dataloaders and the number of batches\n",
    "print(f\"Number of batches in the training dataloader: {len(train_dataloader)}\")\n",
    "print(f\"Number of batches in the test dataloader: {len(test_dataloader)}\")\n",
    "# Analyse the sizes of the training and test dataloaders\n",
    "print(f\"Size of the training dataloader: {len(train_dataloader.dataset)}\")\n",
    "print(f\"Size of the test dataloader: {len(test_dataloader.dataset)}\")"
   ]
  },
  {
   "cell_type": "code",
   "execution_count": 7,
   "metadata": {
    "ExecuteTime": {
     "end_time": "2024-03-03T03:28:23.140695Z",
     "start_time": "2024-03-03T03:28:23.129201Z"
    }
   },
   "outputs": [
    {
     "name": "stdout",
     "output_type": "stream",
     "text": [
      "X_batch: \n",
      "tensor([[ 1.9174e+00,  3.4721e-01,  1.6486e-01, -4.0872e-01, -8.4614e-04,\n",
      "          3.9701e-01, -6.4777e-01,  8.1701e-01, -8.2436e-01, -5.8507e-02,\n",
      "         -2.4256e-01,  4.0602e-01, -4.9616e-01,  6.9936e-01,  1.1362e-01,\n",
      "          1.5029e-01, -2.4028e-02, -2.3916e-01, -4.4404e-01, -4.7014e-01,\n",
      "         -5.3578e-01, -1.5021e-01, -8.7556e-01, -2.4921e-01, -2.4921e-01,\n",
      "          2.8228e-01,  2.8228e-01,  1.1629e+00, -4.1801e-01, -2.4956e-01,\n",
      "         -5.1427e-01,  5.2562e-02, -5.8161e-02,  2.1904e-01, -1.8092e-01,\n",
      "         -2.3203e-01, -1.4488e-01,  5.5311e-01,  6.4714e-02,  4.9000e-01,\n",
      "         -1.0365e-02, -6.5940e-01, -1.5758e-01,  9.6115e-01,  4.5734e-01,\n",
      "          7.7652e-01,  1.1547e+00, -1.7095e-01, -4.9979e-01, -4.3092e-01,\n",
      "          2.6815e-01, -1.8714e+00,  7.8021e-01, -1.4413e-01,  3.9891e-01,\n",
      "          1.7313e-01,  2.5377e-01,  3.1981e-01,  1.1457e+00,  3.9072e-01,\n",
      "          7.1371e-01, -1.5115e-01, -2.8626e-01, -1.0246e+00, -1.9960e-01,\n",
      "          9.0420e-01,  5.9805e-01,  1.0346e+00, -4.1277e-01, -1.6697e+00,\n",
      "          3.3913e-01,  1.4968e+00,  3.3738e-01, -4.8672e-01, -1.5166e-02,\n",
      "          1.4409e-02, -3.9732e-01],\n",
      "        [-7.8316e-01,  1.4015e+00,  1.8908e+00,  1.0484e+00, -1.1703e+00,\n",
      "         -1.4047e+00,  3.6772e-01, -1.6937e+00,  1.6807e+00,  7.1537e-01,\n",
      "         -1.5296e-01,  1.4287e+00, -7.4061e-01,  6.7765e-01, -3.1811e-01,\n",
      "          1.1341e+00,  2.4661e-01, -1.4713e+00, -6.8424e-01, -1.8321e+00,\n",
      "          6.1335e-01, -8.1408e-01, -1.0499e+00, -1.5621e+00, -1.5621e+00,\n",
      "          1.2695e+00,  1.2695e+00,  1.0061e+00,  1.2814e+00, -1.0412e+00,\n",
      "         -6.7465e-01,  2.9060e-02,  1.0844e+00,  2.0178e-01,  2.7596e-01,\n",
      "         -7.2805e-01, -1.7144e-01,  9.1894e-01, -5.8651e-01,  1.8196e+00,\n",
      "         -2.0375e-02,  6.8895e-01, -6.3803e-01, -5.8692e-01,  2.4027e-01,\n",
      "          1.5016e+00, -1.0765e-01, -3.7637e-01, -5.1796e-01,  7.0341e-01,\n",
      "         -7.1266e-01, -8.1563e-01, -1.7081e-01,  7.9276e-01, -9.5105e-01,\n",
      "          9.3627e-01, -1.0394e+00,  3.3350e-02,  8.5990e-01,  2.0886e+00,\n",
      "         -1.1040e-01, -2.3688e-01, -9.7993e-01,  5.9563e-01, -5.1426e-01,\n",
      "          1.8613e-01, -8.6925e-01,  2.6602e-01, -8.5043e-01, -7.9732e-02,\n",
      "         -3.2117e-01, -1.4748e-01, -4.3671e-01,  2.6471e-01, -5.9991e-02,\n",
      "         -1.2033e+00, -2.7820e-01],\n",
      "        [ 9.2759e-01, -7.5664e-01, -9.4364e-01,  3.5571e-01, -1.2808e+00,\n",
      "          9.0730e-01, -8.6670e-01,  7.9606e-01, -8.0220e-01, -7.6091e-01,\n",
      "         -3.9176e-01, -4.2518e-01,  1.3220e-01, -1.8271e+00, -9.3573e-01,\n",
      "         -9.9864e-01, -7.5029e-01,  7.1380e-01, -3.0275e-02,  4.5352e-01,\n",
      "         -1.2251e+00, -4.8794e-01,  5.8455e-01,  5.7742e-01,  5.7742e-01,\n",
      "         -9.0085e-01, -9.0085e-01,  3.6325e-01, -9.4514e-01,  7.0675e-01,\n",
      "         -8.7069e-02,  5.4474e-02, -7.3518e-01,  1.8930e-01, -6.9815e-01,\n",
      "         -2.0103e-01, -2.2441e-01, -2.7543e-01, -9.7437e-01, -4.7833e-02,\n",
      "         -1.0416e-02, -1.6043e+00, -6.9864e-01,  9.1046e-01, -1.3363e+00,\n",
      "         -4.9834e-01, -1.1194e+00,  1.3594e+00, -1.2331e+00, -5.4195e-01,\n",
      "         -8.9836e-01,  1.8307e-01, -1.1543e+00, -8.4243e-01, -8.3341e-01,\n",
      "         -5.2974e-01, -1.4575e+00,  2.4015e-01, -1.1465e-01, -4.6666e-01,\n",
      "         -1.3174e+00,  5.4353e-01, -1.2624e+00, -1.2966e+00, -1.2650e+00,\n",
      "          3.6259e-01, -1.1796e+00,  4.2595e-01, -1.0348e+00,  2.8366e-01,\n",
      "         -8.9965e-01, -1.2217e+00, -1.1227e+00,  3.4791e-03, -8.7582e-01,\n",
      "          2.2712e-01, -6.4179e-01],\n",
      "        [ 4.4137e-01, -8.1823e-01, -1.2041e+00,  1.2623e+00, -2.6334e-01,\n",
      "         -2.6711e+00, -5.5882e-01, -3.2098e+00,  3.0475e+00, -5.3158e-01,\n",
      "         -3.5184e-01,  1.1755e+00,  1.0763e-01,  2.0520e-01, -9.5739e-01,\n",
      "         -3.7409e-01, -6.5170e-01, -1.3464e+00, -6.1554e-01, -9.7797e-01,\n",
      "          6.5191e-01,  3.1553e-01, -7.9716e-01, -1.3360e+00, -1.3360e+00,\n",
      "         -4.5876e-01, -4.5876e-01,  5.1543e+00,  1.2362e+00, -1.5176e+00,\n",
      "         -8.5907e-01,  5.3425e-02, -3.1969e-01, -6.3536e-02, -6.3850e-01,\n",
      "         -1.4510e+00, -1.0551e+00, -1.1399e-01, -9.7188e-01,  1.1482e+00,\n",
      "         -5.2262e-01,  8.3870e-01, -1.1838e+00, -6.9547e-01, -3.6160e-01,\n",
      "          3.2733e-01, -2.4035e-01,  6.9513e-01, -7.7745e-02,  1.0779e+00,\n",
      "         -9.0087e-01,  5.2617e-01, -4.9511e-01,  2.2527e+00, -7.5797e-01,\n",
      "          7.2412e-01, -1.0551e+00,  1.0084e+00, -1.5886e+00,  1.4354e+00,\n",
      "         -7.2815e-01,  3.0966e-01,  8.5620e-01,  2.1691e+00, -1.1801e+00,\n",
      "          5.9606e-02,  6.8087e-01,  1.1055e+00, -6.0445e-01,  3.1736e-01,\n",
      "         -6.8401e-01,  4.1367e-01, -1.1930e+00,  1.7038e+00,  9.8906e-02,\n",
      "         -1.5429e-02, -3.6908e-01],\n",
      "        [-1.2376e+00, -6.8041e-01, -5.3963e-01,  4.0664e-01,  7.9293e-01,\n",
      "          2.3625e+00, -2.3434e+00,  1.7456e+00, -1.8272e+00, -6.0244e-01,\n",
      "         -3.8007e-01,  1.0839e+00, -8.0370e-02,  1.4415e+00, -1.2600e+00,\n",
      "         -4.0775e-01, -7.5049e-01, -1.2002e+00, -1.0671e+00, -3.0622e-01,\n",
      "         -1.4043e+00, -1.0185e+00, -9.7416e-01, -8.9847e-01, -8.9847e-01,\n",
      "         -5.1064e-01, -5.1064e-01, -3.1678e-01, -1.6152e+00, -1.3402e+00,\n",
      "         -8.8435e-01, -1.3622e-02, -4.7623e-01,  2.2067e-01, -6.6109e-01,\n",
      "         -4.0081e-01, -4.8999e-01, -5.6363e-03, -1.2438e+00,  4.9323e-01,\n",
      "         -1.1930e+00,  1.2009e-01, -1.0366e+00,  1.2199e+00, -7.4276e-01,\n",
      "          5.7390e-01, -1.6195e+00,  8.2292e-01, -7.6829e-01,  5.9439e-01,\n",
      "         -8.1576e-01,  1.2778e+00, -1.1388e+00,  8.8566e-01, -4.4973e-01,\n",
      "          4.9638e-02, -7.3756e-01,  9.3204e-01, -9.3176e-01,  2.5688e-02,\n",
      "         -1.6302e-01,  7.1676e-01, -3.2239e-01,  1.4245e+00, -9.0408e-01,\n",
      "          5.8993e-01, -4.4491e-01,  6.7035e-01, -6.3370e-01,  1.4774e+00,\n",
      "         -7.9071e-01,  7.3658e-01, -9.2885e-01, -8.1979e-02, -5.5669e-01,\n",
      "          1.0132e+00, -2.8209e-01]])\n",
      "y_batch: \n",
      "tensor([[0.],\n",
      "        [0.],\n",
      "        [0.],\n",
      "        [0.],\n",
      "        [1.]])\n",
      "X_batch: \n",
      "tensor([[ 0.0478, -0.7427, -0.8696,  0.3116, -0.2986, -0.2774, -0.2143, -0.0940,\n",
      "          0.1195,  2.4877,  1.3415,  1.2358, -1.0746, -0.2690, -0.5992,  2.1593,\n",
      "          2.3626, -0.6593, -0.8649, -1.0127, -0.8493, -0.7783, -1.6113, -0.4500,\n",
      "         -0.4500,  2.2987,  2.2987,  0.7101, -0.4009, -0.5409, -0.6587,  0.0338,\n",
      "          1.9938,  0.2128,  2.0942,  0.4724,  1.0514,  1.2663,  0.3388,  0.6134,\n",
      "          0.3863, -0.7864, -0.3076,  0.4811, -0.0329,  2.2606, -0.0731, -0.9331,\n",
      "         -0.0296,  0.7011,  1.0533,  0.6967, -1.2296,  0.4552,  0.1548, -0.5146,\n",
      "          1.4577, -0.1830,  1.1653, -0.4641,  2.1426, -0.2133, -0.3785,  1.2514,\n",
      "         -0.5200, -1.4412,  0.7363,  0.4619, -0.6984, -0.6112,  0.0179,  0.5130,\n",
      "         -0.4745,  1.3693, -0.8986,  1.0483, -0.7481],\n",
      "        [ 1.2163, -0.8163, -0.4725,  2.6705, -2.5659,  1.3822, -1.6937,  0.3989,\n",
      "         -0.3863, -0.6190, -0.3838,  1.2778,  0.3378, -1.6655, -1.3827, -0.5404,\n",
      "         -0.6763, -1.6297, -1.0478, -0.8725, -1.5631, -1.7041, -0.0570, -1.4512,\n",
      "         -1.4512, -0.5669, -0.5669,  1.2591, -1.4859, -1.6212, -0.8317,  0.0129,\n",
      "         -0.5470,  0.2608, -0.6453,  0.8754,  0.6460, -0.3165, -1.1466,  1.2271,\n",
      "         -0.9881, -0.0312, -1.3656,  0.7647, -0.9275,  0.9970, -1.4058,  1.4981,\n",
      "         -0.8793,  1.0934, -0.8217,  0.9961, -1.0318,  1.3626, -0.9561,  0.8456,\n",
      "         -0.3890,  0.1384, -0.6878,  0.9160, -1.0239,  1.8782, -1.1229,  0.3353,\n",
      "          0.7726,  1.2090, -0.1131,  0.5104, -0.8549,  0.5045, -1.0963,  1.5680,\n",
      "         -0.9328,  0.0774, -0.7822,  2.1015, -0.4778],\n",
      "        [-0.5505, -0.7848, -0.8800, -0.0945,  0.5779,  0.2129, -1.0624, -0.1972,\n",
      "          0.2238, -0.4704, -0.3724,  1.1555, -0.3672,  0.4645, -0.3133, -0.1336,\n",
      "         -0.6669, -0.3779,  0.3181,  0.0344,  0.0881, -0.3439,  1.0594, -0.5748,\n",
      "         -0.5748, -0.1016, -0.1016, -0.8095, -0.9492, -0.2311,  0.2919, -0.0130,\n",
      "         -0.3491,  0.0522, -0.4905, -0.5145, -0.5132,  0.4213, -0.9351,  0.9781,\n",
      "         -0.1920,  0.5723, -1.0043,  0.5267,  0.2301, -1.9815,  1.4581,  1.3947,\n",
      "         -0.3613, -0.5328, -0.0391,  0.7749,  0.0084,  1.2551,  0.0296, -0.5714,\n",
      "         -0.7650,  1.0597, -0.5670, -0.3730, -0.6694,  1.0661, -1.4571,  1.2894,\n",
      "         -0.5106,  1.3913,  1.2870,  0.3235, -0.3793,  1.6000, -0.7077,  1.6532,\n",
      "         -0.5342, -0.1205, -0.5770,  2.8359, -0.2986],\n",
      "        [-1.2376,  0.6056,  1.6400, -1.0966,  1.0121, -1.1366,  1.5081, -1.8882,\n",
      "          1.8622, -0.1396, -0.2651,  0.2487, -0.4426, -0.0370, -0.4419,  0.1537,\n",
      "         -0.2706, -0.6526, -0.2475, -1.0557,  1.0355,  0.5514,  0.0400, -0.7913,\n",
      "         -0.7913,  0.0463,  0.0463, -1.6237,  2.1117, -0.3129, -0.2659,  0.0464,\n",
      "          0.3307,  0.2104, -0.4415, -0.7814, -0.2922,  0.4189, -0.7571,  1.0098,\n",
      "         -0.4771, -0.4087, -0.3226, -1.2153,  0.0093,  1.1411, -0.7178, -0.4407,\n",
      "         -0.3602,  0.3863,  0.5735,  1.4554,  0.3147, -0.1621,  0.8218, -0.3818,\n",
      "         -0.3003, -0.3756, -0.5592, -1.2574,  0.1270, -2.1103,  0.9591, -0.7806,\n",
      "          0.7773, -0.6212, -0.0188, -0.1089, -0.3496,  0.6952, -0.6351,  0.2619,\n",
      "         -0.2987,  0.3433, -0.1205,  0.6995, -0.0974],\n",
      "        [ 0.0478,  0.1784,  0.3568, -0.1959,  0.5086,  0.0498,  0.2946,  0.0462,\n",
      "         -0.0232,  1.6833,  1.7992,  0.4428, -0.7773, -1.8599,  2.6413,  1.5823,\n",
      "          2.1592,  1.8236,  2.9981,  0.9309,  0.9478,  1.5936,  0.4363,  1.5442,\n",
      "          1.5442,  1.8146,  1.8146, -1.3493, -0.5009,  2.0084,  2.3246,  0.0278,\n",
      "          2.4241, -0.3420,  1.1875, -0.1476,  0.3281,  0.9392,  2.9289, -1.5700,\n",
      "          3.3887,  0.0246,  1.4470, -0.3911,  0.5766,  0.2649,  1.6624, -0.2482,\n",
      "          2.7435, -0.0151,  0.3344,  1.7842,  1.6869, -0.6594,  0.8147,  1.6451,\n",
      "          0.2775, -0.0184,  0.4268, -1.3672,  0.6216,  0.4897,  0.1888,  0.2162,\n",
      "          1.9630,  1.4259,  1.0989,  1.1449,  2.0139, -0.7186,  1.0148, -1.6644,\n",
      "          1.8567,  2.9468,  0.9027, -1.2935,  1.1095]])\n",
      "y_batch: \n",
      "tensor([[1.],\n",
      "        [1.],\n",
      "        [0.],\n",
      "        [1.],\n",
      "        [0.]])\n"
     ]
    }
   ],
   "source": [
    "# Perform data analysis to check the first few batches of the training and test dataloaders\n",
    "for X_batch, y_batch in train_dataloader:\n",
    "    print(f\"X_batch: \\n{X_batch[:5]}\")  # Print the first few samples of the input features\n",
    "    print(f\"y_batch: \\n{y_batch[:5]}\")  # Print the first few samples of the outputs\n",
    "    break  # Break the loop to prevent the entire dataset from being printed\n",
    "    \n",
    "for X_batch, y_batch in test_dataloader:\n",
    "    print(f\"X_batch: \\n{X_batch[:5]}\")  # Print the first few samples of the input features\n",
    "    print(f\"y_batch: \\n{y_batch[:5]}\")  # Print the first few samples of the outputs\n",
    "    break  # Break the loop to prevent the entire dataset from being printed"
   ]
  },
  {
   "cell_type": "code",
   "execution_count": null,
   "metadata": {
    "ExecuteTime": {
     "end_time": "2024-03-03T03:28:23.144018Z",
     "start_time": "2024-03-03T03:28:23.141939Z"
    }
   },
   "outputs": [],
   "source": []
  },
  {
   "cell_type": "code",
   "execution_count": null,
   "metadata": {
    "ExecuteTime": {
     "end_time": "2024-03-03T03:28:23.146864Z",
     "start_time": "2024-03-03T03:28:23.144984Z"
    }
   },
   "outputs": [],
   "source": []
  },
  {
   "cell_type": "markdown",
   "metadata": {},
   "source": [
    "4.Next, define the model, optimizer and loss function."
   ]
  },
  {
   "cell_type": "code",
   "execution_count": 8,
   "metadata": {
    "ExecuteTime": {
     "end_time": "2024-03-03T03:28:23.154745Z",
     "start_time": "2024-03-03T03:28:23.150062Z"
    }
   },
   "outputs": [],
   "source": [
    "# Define the variables specifying the model architecture\n",
    "no_features = X_train_scaled.shape[1]  # Number of input features\n",
    "no_hidden = 128  # Number of neurons in each hidden layer\n",
    "no_labels = 1  # Number of output labels\n",
    "learning_rate = 0.001  # Learning rate for the optimizer\n",
    "\n",
    "model = MLP(no_features, no_hidden, no_labels)  # Create an instance of the MLP class\n",
    "optimizer = torch.optim.Adam(model.parameters(), lr=learning_rate)  # Create an instance of the Adam optimizer\n",
    "loss_fn = nn.BCELoss()  # Create an instance of the binary cross-entropy loss function"
   ]
  },
  {
   "cell_type": "code",
   "execution_count": 9,
   "metadata": {
    "ExecuteTime": {
     "end_time": "2024-03-03T03:28:23.158383Z",
     "start_time": "2024-03-03T03:28:23.155780Z"
    }
   },
   "outputs": [
    {
     "name": "stdout",
     "output_type": "stream",
     "text": [
      "The model has been defined with 77 input features, 128 neurons in each hidden layer and 1 output labels.\n",
      "The Adam optimizer has been defined with a learning rate of 0.001.\n",
      "The loss function has been defined as the binary cross-entropy loss function.\n"
     ]
    }
   ],
   "source": [
    "# Print statements to check the model architecture\n",
    "print(f\"The model has been defined with {no_features} input features, {no_hidden} neurons in each hidden layer and {no_labels} output labels.\")\n",
    "print(f\"The Adam optimizer has been defined with a learning rate of {learning_rate}.\")\n",
    "print(f\"The loss function has been defined as the binary cross-entropy loss function.\")\n"
   ]
  },
  {
   "cell_type": "code",
   "execution_count": null,
   "metadata": {
    "ExecuteTime": {
     "end_time": "2024-03-03T03:28:23.161208Z",
     "start_time": "2024-03-03T03:28:23.159393Z"
    }
   },
   "outputs": [],
   "source": []
  },
  {
   "cell_type": "code",
   "execution_count": null,
   "metadata": {
    "ExecuteTime": {
     "end_time": "2024-03-03T03:28:23.164092Z",
     "start_time": "2024-03-03T03:28:23.162444Z"
    }
   },
   "outputs": [],
   "source": []
  },
  {
   "cell_type": "markdown",
   "metadata": {},
   "source": [
    "5.Train model for 100 epochs. Record down train and test accuracies. Implement early stopping."
   ]
  },
  {
   "cell_type": "code",
   "execution_count": 10,
   "metadata": {
    "ExecuteTime": {
     "end_time": "2024-03-03T03:28:30.505747Z",
     "start_time": "2024-03-03T03:28:23.165332Z"
    }
   },
   "outputs": [
    {
     "name": "stdout",
     "output_type": "stream",
     "text": [
      "Epoch 1: Train Accuracy = 0.5547, Test Accuracy = 0.5765, Train Loss = 0.6829, Test Loss = 0.6724\n",
      "Epoch 2: Train Accuracy = 0.5972, Test Accuracy = 0.5973, Train Loss = 0.6634, Test Loss = 0.6589\n",
      "Epoch 3: Train Accuracy = 0.6260, Test Accuracy = 0.6093, Train Loss = 0.6500, Test Loss = 0.6533\n",
      "Epoch 4: Train Accuracy = 0.6403, Test Accuracy = 0.6398, Train Loss = 0.6306, Test Loss = 0.6305\n",
      "Epoch 5: Train Accuracy = 0.6525, Test Accuracy = 0.6570, Train Loss = 0.6167, Test Loss = 0.6246\n",
      "Epoch 6: Train Accuracy = 0.6824, Test Accuracy = 0.6753, Train Loss = 0.5953, Test Loss = 0.6073\n",
      "Epoch 7: Train Accuracy = 0.6955, Test Accuracy = 0.6882, Train Loss = 0.5808, Test Loss = 0.5896\n",
      "Epoch 8: Train Accuracy = 0.7042, Test Accuracy = 0.6959, Train Loss = 0.5637, Test Loss = 0.5871\n",
      "Epoch 9: Train Accuracy = 0.7226, Test Accuracy = 0.6995, Train Loss = 0.5407, Test Loss = 0.5790\n",
      "Epoch 10: Train Accuracy = 0.7295, Test Accuracy = 0.7032, Train Loss = 0.5335, Test Loss = 0.5761\n",
      "Epoch 11: Train Accuracy = 0.7446, Test Accuracy = 0.7244, Train Loss = 0.5134, Test Loss = 0.5535\n",
      "Epoch 12: Train Accuracy = 0.7494, Test Accuracy = 0.7244, Train Loss = 0.5046, Test Loss = 0.5488\n",
      "Epoch 13: Train Accuracy = 0.7660, Test Accuracy = 0.7158, Train Loss = 0.4858, Test Loss = 0.5533\n",
      "Epoch 14: Train Accuracy = 0.7697, Test Accuracy = 0.7237, Train Loss = 0.4721, Test Loss = 0.5461\n",
      "Epoch 15: Train Accuracy = 0.7873, Test Accuracy = 0.7187, Train Loss = 0.4525, Test Loss = 0.5493\n",
      "Epoch 16: Train Accuracy = 0.7830, Test Accuracy = 0.7257, Train Loss = 0.4578, Test Loss = 0.5356\n",
      "Epoch 17: Train Accuracy = 0.7823, Test Accuracy = 0.7380, Train Loss = 0.4501, Test Loss = 0.5245\n",
      "Epoch 18: Train Accuracy = 0.7976, Test Accuracy = 0.7333, Train Loss = 0.4310, Test Loss = 0.5338\n",
      "Epoch 19: Train Accuracy = 0.8009, Test Accuracy = 0.7416, Train Loss = 0.4177, Test Loss = 0.5129\n",
      "Epoch 20: Train Accuracy = 0.8110, Test Accuracy = 0.7493, Train Loss = 0.4121, Test Loss = 0.5183\n",
      "Epoch 21: Train Accuracy = 0.8112, Test Accuracy = 0.7499, Train Loss = 0.4108, Test Loss = 0.5040\n",
      "Epoch 22: Train Accuracy = 0.8208, Test Accuracy = 0.7456, Train Loss = 0.3927, Test Loss = 0.5055\n",
      "Epoch 23: Train Accuracy = 0.8202, Test Accuracy = 0.7400, Train Loss = 0.3898, Test Loss = 0.5225\n",
      "Epoch 24: Train Accuracy = 0.8243, Test Accuracy = 0.7556, Train Loss = 0.3852, Test Loss = 0.4987\n",
      "Epoch 25: Train Accuracy = 0.8371, Test Accuracy = 0.7612, Train Loss = 0.3665, Test Loss = 0.4986\n",
      "Epoch 26: Train Accuracy = 0.8333, Test Accuracy = 0.7645, Train Loss = 0.3672, Test Loss = 0.4989\n",
      "Epoch 27: Train Accuracy = 0.8360, Test Accuracy = 0.7549, Train Loss = 0.3634, Test Loss = 0.5059\n",
      "Epoch 28: Train Accuracy = 0.8486, Test Accuracy = 0.7572, Train Loss = 0.3484, Test Loss = 0.5106\n",
      "Validation loss has not decreased for the last 3 epochs. Early stopping...\n"
     ]
    }
   ],
   "source": [
    "from common_utils import EarlyStopper # Import the EarlyStopper class from the common_utils.py file \n",
    "\n",
    "# Define the specified parameters\n",
    "patience = 3  # Define the patience for early stopping\n",
    "no_epochs = 100  # Define the number of epochs for training\n",
    "\n",
    "# Define the variables to store the training and test accuracies\n",
    "train_accuracies = []\n",
    "train_after_accuracies = []\n",
    "test_accuracies = []\n",
    "\n",
    "# Define the variables to store the training and test losses\n",
    "train_losses = []\n",
    "train_after_losses = []\n",
    "test_losses = []\n",
    "\n",
    "# Define the early stopping function\n",
    "early_stopper = EarlyStopper(patience=patience) \n",
    "\n",
    "# Train the model for the specified number of epochs\n",
    "for epoch in range(1, no_epochs + 1):\n",
    "    # Set the model to training mode\n",
    "    model.train()\n",
    "    \n",
    "    # Perform mini-batch gradient descent for the training dataset and compute the training accuracy and loss during the training process\n",
    "    train_loss, train_accuracy = 0, 0  # Define the variables to store the training loss and accuracy\n",
    "    train_no_batches = len(train_dataloader)  # Define the number of mini-batches in the training dataset\n",
    "    train_size = len(train_dataloader.dataset) # Define the size of the dataset# Define the size of the dataset\n",
    "    for X_batch, y_batch in train_dataloader:\n",
    "        optimizer.zero_grad()  # Zero the gradients\n",
    "        y_pred = model(X_batch)  # Perform a forward pass of the model\n",
    "        loss = loss_fn(y_pred, y_batch)  # Compute the loss value between the predictions and the actual target values\n",
    "        loss.backward()  # Backpropagate the gradients\n",
    "        optimizer.step()  # Update the model parameters\n",
    "        \n",
    "        # Compute the training accuracy and loss for the current batch\n",
    "        train_loss += loss.item()  # Add the loss value to the running total\n",
    "        train_accuracy += ((y_pred > 0.5) == y_batch).sum().item()  # Compute the number of correctly classified samples and add to the running total\n",
    "    \n",
    "    # Compute the average training accuracy and loss values\n",
    "    train_accuracy /= train_size  # Compute the average training accuracy\n",
    "    train_loss /= train_no_batches  # Compute the average training loss\n",
    "    train_accuracies.append(train_accuracy)  # Append the training accuracy to the list\n",
    "    train_losses.append(train_loss)  # Append the training loss to the list\n",
    "    \n",
    "    # Set the model to evaluation mode\n",
    "    model.eval()\n",
    "    # Disable gradient computation using the no_grad context, reducing memory consumption\n",
    "    with torch.no_grad():\n",
    "        test_loss, test_accuracy = 0, 0  # Define variables to store the loss and accuracy values for the test dataset\n",
    "        test_no_batches = len(test_dataloader)  # Define the number of mini-batches in the test dataset\n",
    "        test_size = len(test_dataloader.dataset) # Define the size of the dataset\n",
    "        \n",
    "        # Compute the test accuracy and loss\n",
    "        for X_batch, y_batch in test_dataloader:\n",
    "            y_pred = model(X_batch)  # Perform a forward pass of the model\n",
    "            loss = loss_fn(y_pred, y_batch)  # Compute the loss value between the predictions and the actual target values\n",
    "            \n",
    "            # Compute the test accuracy and loss for the current batch\n",
    "            test_loss += loss.item()  # Add the loss value to the running total\n",
    "            test_accuracy += ((y_pred > 0.5) == y_batch).sum().item()  # Compute the number of correctly classified samples and add to the running total\n",
    "        \n",
    "        # Compute the average test and test accuracy and loss values\n",
    "        test_accuracy /= test_size  # Compute the average test accuracy\n",
    "        test_loss /= test_no_batches  # Compute the average test loss\n",
    "        test_accuracies.append(test_accuracy)  # Append the test accuracy to the list\n",
    "        test_losses.append(test_loss)  # Append the test loss to the list\n",
    "        \n",
    "        # Compute the training accuracy and loss for the current epoch after training for the epoch has finished\n",
    "        train_after_loss, train_after_accuracy = 0, 0  # Define variables to store the loss and accuracy values for the training dataset\n",
    "        for X_batch, y_batch in train_dataloader:\n",
    "            y_pred = model(X_batch)  # Perform a forward pass of the model\n",
    "            loss = loss_fn(y_pred, y_batch)  # Compute the loss value between the predictions and the actual target values\n",
    "            \n",
    "            # Compute the training accuracy and loss\n",
    "            train_after_loss += loss.item()  # Add the loss value to the running total\n",
    "            train_after_accuracy += ((y_pred > 0.5) == y_batch).sum().item()  # Compute the number of correctly classified samples and add to the running total\n",
    "        \n",
    "        # Compute the average training accuracy and loss values\n",
    "        train_after_accuracy /= train_size  # Compute the average training accuracy\n",
    "        train_after_loss /= train_no_batches  # Compute the average training loss\n",
    "        train_after_accuracies.append(train_after_accuracy)  # Append the training accuracy to the list\n",
    "        train_after_losses.append(train_after_loss)  # Append the training loss to the list\n",
    "        \n",
    "    # Print the training and test accuracies and losses for the current epoch\n",
    "    print(f\"Epoch {epoch}: Train Accuracy = {train_accuracy:.4f}, Test Accuracy = {test_accuracy:.4f}, Train Loss = {train_loss:.4f}, Test Loss = {test_loss:.4f}\")\n",
    "    \n",
    "    # Check for early stopping\n",
    "    if early_stopper.early_stop(test_loss):\n",
    "        print(f\"Validation loss has not decreased for the last {patience} epochs. Early stopping...\")\n",
    "        break"
   ]
  },
  {
   "cell_type": "markdown",
   "metadata": {},
   "source": [
    "#### Plot train and test accuracies and losses on training and test data against training epochs and comment on the line plots.\n"
   ]
  },
  {
   "cell_type": "code",
   "execution_count": 11,
   "metadata": {
    "ExecuteTime": {
     "end_time": "2024-03-03T03:36:10.705864Z",
     "start_time": "2024-03-03T03:36:10.465532Z"
    }
   },
   "outputs": [
    {
     "data": {
      "image/png": "[encoded data removed]",
      "text/plain": [
       "<Figure size 2000x600 with 2 Axes>"
      ]
     },
     "metadata": {},
     "output_type": "display_data"
    }
   ],
   "source": [
    "# Plot the training and test accuracies and losses against the training epochs\n",
    "plt.figure(figsize=(20, 6))\n",
    "\n",
    "# Plot the accuracy\n",
    "plt.subplot(1, 2, 1)\n",
    "plt.plot(train_accuracies, label='Train Accuracy', color='blue')\n",
    "plt.plot(test_accuracies, label='Test Accuracy', color='red')\n",
    "plt.plot(train_after_accuracies, label='Train After Accuracy', color='green')\n",
    "# Label the plot\n",
    "plt.title('Training and Test Accuracies')\n",
    "plt.xlabel('Epochs')\n",
    "plt.ylabel('Accuracy')\n",
    "plt.grid()\n",
    "plt.legend()\n",
    "\n",
    "# Plot the loss\n",
    "plt.subplot(1, 2, 2)\n",
    "plt.plot(train_losses, label='Train Loss', color='blue')\n",
    "plt.plot(test_losses, label='Test Loss', color='red')\n",
    "plt.plot(train_after_losses, label='Train After Loss', color='green')\n",
    "# Label the plot\n",
    "plt.title('Training and Test Losses')\n",
    "plt.xlabel('Epochs')\n",
    "plt.ylabel('Loss')\n",
    "plt.grid()\n",
    "plt.legend()\n",
    "\n",
    "# Display the plot\n",
    "plt.tight_layout()\n",
    "plt.show()"
   ]
  },
  {
   "cell_type": "code",
   "execution_count": null,
   "metadata": {
    "ExecuteTime": {
     "end_time": "2024-03-03T03:28:30.743468Z",
     "start_time": "2024-03-03T03:28:30.741737Z"
    }
   },
   "outputs": [],
   "source": []
  },
  {
   "cell_type": "markdown",
   "metadata": {},
   "source": [
    "6.Comment on line plots."
   ]
  },
  {
   "cell_type": "code",
   "execution_count": 13,
   "metadata": {
    "ExecuteTime": {
     "end_time": "2024-03-03T03:28:30.746587Z",
     "start_time": "2024-03-03T03:28:30.744250Z"
    }
   },
   "outputs": [
    {
     "name": "stdout",
     "output_type": "stream",
     "text": [
      "\n",
      "As we can see from the line plots, there is a significant difference between the evaluation on the training dataset during the learning phase and after the learning phase.\n",
      "\n",
      "1. Training (During Learning) vs Test:\n",
      "- In the beginning, the test accuracy and loss is better than the training accuracy and loss. This can be explained by the fact that the evaluation on the testing data is done after the learning phase, and the model already uses the updated parameters for the evaluation. However as the training progresses, the training accuracy and loss improves as the model learns from the training data, and thus performs better than on the unseen test data.\n",
      "\n",
      "2. Training (After Learning) vs Test:\n",
      "- The training accuracy and loss on the training dataset after learning is better than the test accuracy and loss from the beginning. In the start of the learning, the two lines are quite close to each other because the model has not learned much from the training data. However, as the training progresses, the accuracy and loss for both improve, but the training accuracy and loss is always better than the test accuracy and loss. This is because the model has learned from the training data, and thus performs better on the training data than on the unseen test data.\n",
      "\n",
      "3. Possible Future Overfriting:\n",
      "- As we can see in the end of the plots, the training accuracy and loss continues to improve with high rates while the test line almost becomes flat with several slight increases. This can be a sign of overfitting, as the model is learning from the training data too much and is not generalizing well to the unseen test data. This can be a sign of overfitting, and thus the model may not perform well on unseen data.\n",
      "\n"
     ]
    }
   ],
   "source": [
    "answer = \"\"\"\n",
    "As we can see from the line plots, there is a significant difference between the evaluation on the training dataset during the learning phase and after the learning phase.\n",
    "\n",
    "1. Training (During Learning) vs Test:\n",
    "- In the beginning, the test accuracy and loss is better than the training accuracy and loss. This can be explained by the fact that the evaluation on the testing data is done after the learning phase, and the model already uses the updated parameters for the evaluation. However as the training progresses, the training accuracy and loss improves as the model learns from the training data, and thus performs better than on the unseen test data.\n",
    "\n",
    "2. Training (After Learning) vs Test:\n",
    "- The training accuracy and loss on the training dataset after learning is better than the test accuracy and loss from the beginning. In the start of the learning, the two lines are quite close to each other because the model has not learned much from the training data. However, as the training progresses, the accuracy and loss for both improve, but the training accuracy and loss is always better than the test accuracy and loss. This is because the model has learned from the training data, and thus performs better on the training data than on the unseen test data.\n",
    "\n",
    "3. Possible Future Overfriting:\n",
    "- As we can see in the end of the plots, the training accuracy and loss continues to improve with high rates while the test line almost becomes flat with several slight increases. This can be a sign of overfitting, as the model is learning from the training data too much and is not generalizing well to the unseen test data. This can be a sign of overfitting, and thus the model may not perform well on unseen data.\n",
    "\"\"\"\n",
    "print(answer)"
   ]
  },
  {
   "cell_type": "code",
   "execution_count": null,
   "metadata": {
    "ExecuteTime": {
     "end_time": "2024-03-03T03:28:30.749001Z",
     "start_time": "2024-03-03T03:28:30.747376Z"
    }
   },
   "outputs": [],
   "source": []
  }
 ],
 "metadata": {
  "kernelspec": {
   "display_name": "Python 3 (ipykernel)",
   "language": "python",
   "name": "python3"
  },
  "language_info": {
   "codemirror_mode": {
    "name": "ipython",
    "version": 3
   },
   "file_extension": ".py",
   "mimetype": "text/x-python",
   "name": "python",
   "nbconvert_exporter": "python",
   "pygments_lexer": "ipython3",
   "version": "3.10.9"
  }
 },
 "nbformat": 4,
 "nbformat_minor": 2
}
